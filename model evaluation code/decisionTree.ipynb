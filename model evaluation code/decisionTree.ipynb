{
 "cells": [
  {
   "cell_type": "code",
   "execution_count": 1,
   "metadata": {},
   "outputs": [],
   "source": [
    "import pandas as pd\n",
    "from sklearn.model_selection import train_test_split\n",
    "from sklearn.preprocessing import LabelEncoder\n",
    "from sklearn.tree import DecisionTreeClassifier\n",
    "from sklearn.model_selection import cross_val_score, cross_val_predict\n",
    "from sklearn.metrics import accuracy_score, confusion_matrix, classification_report\n",
    "import matplotlib.pyplot as plt\n",
    "from sklearn.feature_extraction.text import TfidfVectorizer\n",
    "from sklearn.ensemble import RandomForestClassifier\n",
    "from xgboost import XGBClassifier\n",
    "import seaborn as sns\n",
    "plt.style.use('style/deeplearning.mplstyle')\n",
    "\n",
    "RANDOM_STATE = 42"
   ]
  },
  {
   "cell_type": "code",
   "execution_count": 2,
   "metadata": {},
   "outputs": [],
   "source": [
    "df = pd.read_csv(\"datasets/combined_dataset.csv\")"
   ]
  },
  {
   "cell_type": "code",
   "execution_count": 3,
   "metadata": {},
   "outputs": [
    {
     "name": "stdout",
     "output_type": "stream",
     "text": [
      "['harmful' 'safe']\n"
     ]
    }
   ],
   "source": [
    "label_encoder = LabelEncoder()\n",
    "y = label_encoder.fit_transform(df['Type'])\n",
    "print(label_encoder.classes_)"
   ]
  },
  {
   "cell_type": "code",
   "execution_count": 4,
   "metadata": {},
   "outputs": [],
   "source": [
    "# Split data into train and test sets\n",
    "X_train, X_test, y_train, y_test = train_test_split(df[['Content']], y, test_size=0.2, random_state=42)\n",
    "\n",
    "# Initialize and fit TF-IDF vectorizer on training data\n",
    "vectorizer = TfidfVectorizer()\n",
    "X_train_transformed = vectorizer.fit_transform(X_train['Content'])\n",
    "X_test_transformed = vectorizer.transform(X_test['Content']) "
   ]
  },
  {
   "cell_type": "code",
   "execution_count": 5,
   "metadata": {},
   "outputs": [
    {
     "name": "stdout",
     "output_type": "stream",
     "text": [
      "Cross-validation scores: [0.88839286 0.88616071 0.87276786 0.91741071 0.89732143]\n",
      "Average cross-validation score: 0.8924\n"
     ]
    }
   ],
   "source": [
    "model = DecisionTreeClassifier(random_state=42)\n",
    "\n",
    "# Perform cross-validation with 5 folds\n",
    "cv_scores = cross_val_score(model, X_train_transformed, y_train, cv=5, scoring='accuracy')\n",
    "\n",
    "# Print cross-validation scores and average\n",
    "print(f\"Cross-validation scores: {cv_scores}\")\n",
    "print(f\"Average cross-validation score: {cv_scores.mean():.4f}\")"
   ]
  },
  {
   "cell_type": "code",
   "execution_count": 6,
   "metadata": {},
   "outputs": [
    {
     "name": "stdout",
     "output_type": "stream",
     "text": [
      "Cross-validation scores: [0.90178571 0.89285714 0.90178571 0.90178571 0.88392857 0.89285714\n",
      " 0.93303571 0.90178571 0.89732143 0.87946429]\n",
      "Average cross-validation score: 0.8987\n"
     ]
    }
   ],
   "source": [
    "cv_scores = cross_val_score(model, X_train_transformed, y_train, cv=10, scoring='accuracy')\n",
    "\n",
    "print(f\"Cross-validation scores: {cv_scores}\")\n",
    "print(f\"Average cross-validation score: {cv_scores.mean():.4f}\")"
   ]
  },
  {
   "cell_type": "code",
   "execution_count": 7,
   "metadata": {},
   "outputs": [
    {
     "name": "stdout",
     "output_type": "stream",
     "text": [
      "Cross-validation scores: [0.89959839 0.87550201 0.91823056]\n",
      "Average cross-validation score: 0.8978\n"
     ]
    }
   ],
   "source": [
    "cv_scores = cross_val_score(model, X_train_transformed, y_train, cv=3, scoring='accuracy')\n",
    "\n",
    "print(f\"Cross-validation scores: {cv_scores}\")\n",
    "print(f\"Average cross-validation score: {cv_scores.mean():.4f}\")"
   ]
  },
  {
   "cell_type": "code",
   "execution_count": 8,
   "metadata": {},
   "outputs": [
    {
     "data": {
      "image/png": "[encoded data removed]",
      "text/plain": [
       "<Figure size 800x600 with 2 Axes>"
      ]
     },
     "metadata": {},
     "output_type": "display_data"
    }
   ],
   "source": [
    "\n",
    "model.fit(X_train_transformed, y_train)\n",
    "predictions = cross_val_predict(model, X_train_transformed, y_train, cv=5)\n",
    "\n",
    "conf_matrix = confusion_matrix(y_train, predictions)\n",
    "\n",
    "# Plot confusion matrix\n",
    "plt.figure(figsize=(8, 6))\n",
    "sns.heatmap(conf_matrix, annot=True, fmt=\"d\", cmap=\"Greens\", xticklabels=label_encoder.classes_, yticklabels=label_encoder.classes_)\n",
    "plt.xlabel('Predicted')\n",
    "plt.ylabel('True')\n",
    "plt.title('Confusion Matrix')\n",
    "plt.show()"
   ]
  },
  {
   "cell_type": "code",
   "execution_count": 9,
   "metadata": {},
   "outputs": [
    {
     "name": "stdout",
     "output_type": "stream",
     "text": [
      "[[ 982  143]\n",
      " [  98 1017]]\n"
     ]
    }
   ],
   "source": [
    "\n",
    "model.fit(X_train_transformed, y_train)\n",
    "predictions = cross_val_predict(model, X_train_transformed, y_train, cv=5)\n",
    "\n",
    "conf_matrix = confusion_matrix(y_train, predictions)\n",
    "print(conf_matrix)"
   ]
  },
  {
   "cell_type": "code",
   "execution_count": 10,
   "metadata": {},
   "outputs": [
    {
     "name": "stdout",
     "output_type": "stream",
     "text": [
      "Classification Report:\n",
      "               precision    recall  f1-score   support\n",
      "\n",
      "           0       0.91      0.87      0.89      1125\n",
      "           1       0.88      0.91      0.89      1115\n",
      "\n",
      "    accuracy                           0.89      2240\n",
      "   macro avg       0.89      0.89      0.89      2240\n",
      "weighted avg       0.89      0.89      0.89      2240\n",
      "\n"
     ]
    }
   ],
   "source": [
    "# Classification Report\n",
    "class_report = classification_report(y_train, predictions)\n",
    "print(\"Classification Report:\\n\", class_report)"
   ]
  },
  {
   "cell_type": "code",
   "execution_count": 11,
   "metadata": {},
   "outputs": [
    {
     "name": "stdout",
     "output_type": "stream",
     "text": [
      "Metrics train:\n",
      "\tAccuracy score: 1.0000\n",
      "Metrics test:\n",
      "\tAccuracy score: 0.9107\n"
     ]
    }
   ],
   "source": [
    "# Predict on training and test data\n",
    "y_train_pred = model.predict(X_train_transformed)\n",
    "y_test_pred = model.predict(X_test_transformed)\n",
    "\n",
    "# Print training accuracy\n",
    "print(f\"Metrics train:\\n\\tAccuracy score: {accuracy_score(y_train, y_train_pred):.4f}\")\n",
    "\n",
    "# Print test accuracy\n",
    "print(f\"Metrics test:\\n\\tAccuracy score: {accuracy_score(y_test, y_test_pred):.4f}\")"
   ]
  },
  {
   "cell_type": "code",
   "execution_count": 12,
   "metadata": {},
   "outputs": [
    {
     "name": "stdout",
     "output_type": "stream",
     "text": [
      "Random Forest prediction for: 'https://eezxodullgeunn.webflow.io' -> harmful\n"
     ]
    }
   ],
   "source": [
    "url = \"https://eezxodullgeunn.webflow.io\"  # Example phishing URL\n",
    "\n",
    "url_transformed = vectorizer.transform([url])\n",
    "\n",
    "# Predict using the trained model\n",
    "decision_prediction = model.predict(url_transformed)\n",
    "\n",
    "# Inverse transform the prediction if necessary (e.g., for label encoding)\n",
    "decision_predicted_class = label_encoder.inverse_transform(decision_prediction)\n",
    "\n",
    "# Output the prediction (safe or phishing)\n",
    "print(f\"Random Forest prediction for: '{url}' -> {decision_predicted_class[0]}\")"
   ]
  },
  {
   "cell_type": "code",
   "execution_count": 13,
   "metadata": {},
   "outputs": [
    {
     "name": "stdout",
     "output_type": "stream",
     "text": [
      "Random Forest prediction for: 'u r subscribed 2 TEXTCOMP 250 wkly comp. 1st wk?s free question follows, subsequent wks charged@150p/msg.2 unsubscribe txt STOP 2 84128,custcare 08712405020' -> harmful\n"
     ]
    }
   ],
   "source": [
    "text = \"u r subscribed 2 TEXTCOMP 250 wkly comp. 1st wk?s free question follows, subsequent wks charged@150p/msg.2 unsubscribe txt STOP 2 84128,custcare 08712405020\"\n",
    "\n",
    "text_transformed = vectorizer.transform([text]) \n",
    "\n",
    "# Predict using the trained RandomForest model\n",
    "decision_prediction = model.predict(text_transformed)\n",
    "\n",
    "decision_predicted_class = label_encoder.inverse_transform(decision_prediction)\n",
    "\n",
    "print(f\"Random Forest prediction for: '{text}' -> {decision_predicted_class[0]}\")"
   ]
  },
  {
   "cell_type": "code",
   "execution_count": 14,
   "metadata": {},
   "outputs": [
    {
     "name": "stdout",
     "output_type": "stream",
     "text": [
      "Type\n",
      "harmful    1400\n",
      "safe       1400\n",
      "dtype: int64\n"
     ]
    }
   ],
   "source": [
    "# df2 = df.groupby(\"Type\").sample(n=700)\n",
    "# print(df[\"Type\"].value_counts()) \n",
    "\n",
    "print(df.groupby(\"Type\").size())"
   ]
  },
  {
   "cell_type": "code",
   "execution_count": 15,
   "metadata": {},
   "outputs": [],
   "source": [
    "# -------------------------------- CODE BELOW IS TO EVALUATE MODEL PERFORMANCE & TESTING PURPOSES ------------------------------------"
   ]
  },
  {
   "cell_type": "code",
   "execution_count": 16,
   "metadata": {},
   "outputs": [],
   "source": [
    "# from sklearn.model_selection import train_test_split\n",
    "# from sklearn.tree import DecisionTreeClassifier\n",
    "# from sklearn.feature_extraction.text import TfidfVectorizer\n",
    "# from sklearn.metrics import classification_report\n",
    "# from sklearn.preprocessing import LabelEncoder\n",
    "# import pandas as pd\n",
    "\n",
    "# # Define the different test ratios\n",
    "# ratios = [0.5, 0.4, 0.3, 0.2, 0.1]\n",
    "\n",
    "# # Create an empty list to store the classification report for each ratio\n",
    "# classification_reports = []\n",
    "\n",
    "# # Loop over each ratio and split the data\n",
    "# for ratio in ratios:\n",
    "#     # Split the data into training and testing sets\n",
    "#     X_train, X_test, y_train, y_test = train_test_split(\n",
    "#         df.drop(columns=[\"Type\"]),  # Features (excluding the target column)\n",
    "#         df[\"Type\"],  # Target column\n",
    "#         test_size=ratio,  # Ratio of test data\n",
    "#         random_state=42,  # For reproducibility\n",
    "#         stratify=df[\"Type\"]  # To maintain the class distribution\n",
    "#     )\n",
    "\n",
    "#     # Encode labels\n",
    "#     label_encoder = LabelEncoder()\n",
    "#     y_train = label_encoder.fit_transform(y_train)\n",
    "#     y_test = label_encoder.transform(y_test)\n",
    "\n",
    "#     # Initialize and fit TF-IDF vectorizer on training data\n",
    "#     vectorizer = TfidfVectorizer()\n",
    "#     X_train_transformed = vectorizer.fit_transform(X_train['Content'])\n",
    "#     X_test_transformed = vectorizer.transform(X_test['Content'])\n",
    "\n",
    "#     # Initialize and train the model\n",
    "#     model = DecisionTreeClassifier(random_state=42)\n",
    "#     model.fit(X_train_transformed, y_train)\n",
    "\n",
    "#     # Make predictions on the test set\n",
    "#     predictions = model.predict(X_test_transformed)\n",
    "\n",
    "#     # Generate classification report\n",
    "#     report = classification_report(y_test, predictions, output_dict=True)\n",
    "#     classification_reports.append((ratio, report))\n",
    "\n",
    "#     # Print the classification report for each ratio\n",
    "#     print(f\"\\nClassification Report for Train/Test split: {100 - (ratio * 100)}% / {ratio * 100}%\")\n",
    "#     print(\"----------------------------------------------------------\")\n",
    "#     print(f\"X_train shape: {X_train.shape}, X_test shape: {X_test.shape}\")\n",
    "#     print(classification_report(y_test, predictions))"
   ]
  },
  {
   "cell_type": "code",
   "execution_count": 17,
   "metadata": {},
   "outputs": [],
   "source": [
    "# import pandas as pd\n",
    "\n",
    "# # Assuming df is your dataframe containing the 'Type' column with 'safe' and 'harmful' labels.\n",
    "\n",
    "# # Split the dataset by class\n",
    "# safe_urls = df[df[\"Type\"] == \"safe\"]\n",
    "# harmful_urls = df[df[\"Type\"] == \"harmful\"]\n",
    "\n",
    "# # Define class distributions\n",
    "# distributions = [\n",
    "#     (0.5,0.5),\n",
    "#     (0.6, 0.4),  # 60% safe, 40% harmful\n",
    "#     (0.7, 0.3),  # 70% safe, 30% harmful\n",
    "#     (0.8, 0.2),  # 80% safe, 20% harmful\n",
    "#     (0.9, 0.1),   # 90% safe, 10% harmful\n",
    "#     (0.4, 0.6),\n",
    "#     (0.3,0.7),\n",
    "#     (0.2,0.8),\n",
    "#     (0.1,0.9)\n",
    "# ]\n",
    "\n",
    "# # Loop through each distribution and create a new dataset\n",
    "# for safe_ratio, harmful_ratio in distributions:\n",
    "#     # Calculate the number of samples to take from each class\n",
    "#     safe_sample_size = int(len(safe_urls) * safe_ratio)\n",
    "#     harmful_sample_size = int(len(harmful_urls) * harmful_ratio)\n",
    "    \n",
    "#     # Take the samples from each class\n",
    "#     safe_sample = safe_urls.sample(n=safe_sample_size, random_state=42)\n",
    "#     harmful_sample = harmful_urls.sample(n=harmful_sample_size, random_state=42)\n",
    "    \n",
    "#     # Combine the two samples to create the new dataset\n",
    "#     new_dataset = pd.concat([safe_sample, harmful_sample], ignore_index=True)\n",
    "    \n",
    "#     # Shuffle the dataset (optional, but helps prevent order bias)\n",
    "#     new_dataset = new_dataset.sample(frac=1, random_state=42).reset_index(drop=True)\n",
    "    \n",
    "#     # Save or print the new dataset (optional)\n",
    "#     new_dataset.to_csv(f\"new_dataset_{int(safe_ratio*100)}_{int(harmful_ratio*100)}.csv\", index=False)\n",
    "    \n",
    "#     print(f\"New dataset with {int(safe_ratio*100)}% safe and {int(harmful_ratio*100)}% harmful URLs:\")\n",
    "#     print(new_dataset[\"Type\"].value_counts())\n",
    "#     print(new_dataset.head())\n",
    "#     print(f\"Shape of new dataset: {new_dataset.shape}\\n\")\n"
   ]
  },
  {
   "cell_type": "code",
   "execution_count": 18,
   "metadata": {},
   "outputs": [],
   "source": [
    "# # Read the dataset\n",
    "# df = pd.read_csv(\"new_dataset_60_40.csv\")\n",
    "\n",
    "# # Encode labels\n",
    "# label_encoder = LabelEncoder()\n",
    "# y = label_encoder.fit_transform(df['Type'])\n",
    "\n",
    "# # Split data into train and test sets\n",
    "# X_train, X_test, y_train, y_test = train_test_split(df[['Content']], y, test_size=0.2, random_state=42)\n",
    "\n",
    "# # Initialize and fit TF-IDF vectorizer on training data\n",
    "# vectorizer = TfidfVectorizer()\n",
    "# X_train_transformed = vectorizer.fit_transform(X_train['Content'])\n",
    "# X_test_transformed = vectorizer.transform(X_test['Content'])\n",
    "\n",
    "# # Initialize and train the model\n",
    "# model = DecisionTreeClassifier(random_state=42)\n",
    "# model.fit(X_train_transformed, y_train)\n",
    "\n",
    "# # Make predictions on the test set\n",
    "# predictions = model.predict(X_test_transformed)\n",
    "\n",
    "# # Classification Report\n",
    "# class_report = classification_report(y_test, predictions)\n",
    "# print(\"Classification Report:\\n\", class_report)"
   ]
  },
  {
   "cell_type": "code",
   "execution_count": 19,
   "metadata": {},
   "outputs": [],
   "source": [
    "# import glob\n",
    "# import pandas as pd\n",
    "# from sklearn.model_selection import train_test_split\n",
    "# from sklearn.preprocessing import LabelEncoder\n",
    "# from sklearn.feature_extraction.text import TfidfVectorizer\n",
    "# from sklearn.tree import DecisionTreeClassifier\n",
    "# from sklearn.metrics import classification_report\n",
    "\n",
    "# # Use glob to search for all CSV files that follow a naming convention.\n",
    "# dataset_files = glob.glob(\"new_dataset_*.csv\")  # adjust folder/path as needed\n",
    "\n",
    "# # Loop through each dataset and perform training and evaluation\n",
    "# for file_path in dataset_files:\n",
    "#     print(f\"Processing dataset: {file_path}\")\n",
    "    \n",
    "#     # Read the dataset\n",
    "#     df = pd.read_csv(file_path)\n",
    "    \n",
    "#     # Encode the labels\n",
    "#     label_encoder = LabelEncoder()\n",
    "#     y = label_encoder.fit_transform(df['Type'])\n",
    "    \n",
    "#     # Split the data into training and testing sets\n",
    "#     X_train, X_test, y_train, y_test = train_test_split(df[['Content']], y, test_size=0.2, random_state=42)\n",
    "    \n",
    "#     # Initialize and fit TF-IDF vectorizer on training data\n",
    "#     vectorizer = TfidfVectorizer()\n",
    "#     X_train_transformed = vectorizer.fit_transform(X_train['Content'])\n",
    "#     X_test_transformed = vectorizer.transform(X_test['Content'])\n",
    "    \n",
    "#     # Initialize and train the model\n",
    "#     model = DecisionTreeClassifier(random_state=42)\n",
    "#     model.fit(X_train_transformed, y_train)\n",
    "    \n",
    "#     # Make predictions on the test set\n",
    "#     predictions = model.predict(X_test_transformed)\n",
    "    \n",
    "#     # Print the classification report for the current dataset\n",
    "#     report = classification_report(y_test, predictions)\n",
    "#     print(\"Classification Report:\")\n",
    "#     print(report)\n",
    "#     print(\"-\" * 40)\n"
   ]
  }
 ],
 "metadata": {
  "kernelspec": {
   "display_name": "Python 3",
   "language": "python",
   "name": "python3"
  },
  "language_info": {
   "codemirror_mode": {
    "name": "ipython",
    "version": 3
   },
   "file_extension": ".py",
   "mimetype": "text/x-python",
   "name": "python",
   "nbconvert_exporter": "python",
   "pygments_lexer": "ipython3",
   "version": "3.13.1"
  }
 },
 "nbformat": 4,
 "nbformat_minor": 2
}
