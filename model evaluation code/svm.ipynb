{
 "cells": [
  {
   "cell_type": "code",
   "execution_count": 4,
   "metadata": {},
   "outputs": [],
   "source": [
    "import pandas as pd\n",
    "from sklearn.model_selection import train_test_split\n",
    "from sklearn import svm\n",
    "from sklearn import metrics\n",
    "from sklearn.preprocessing import LabelEncoder\n",
    "from sklearn.decomposition import PCA\n",
    "import numpy as np\n",
    "import matplotlib.pyplot as plt\n",
    "from sklearn.metrics import accuracy_score\n",
    "from sklearn.metrics import confusion_matrix, classification_report\n",
    "from sklearn.feature_extraction.text import TfidfVectorizer\n",
    "from sklearn.svm import SVC\n",
    "from sklearn.model_selection import cross_val_predict, cross_val_score\n",
    "import seaborn as sns"
   ]
  },
  {
   "cell_type": "code",
   "execution_count": 5,
   "metadata": {},
   "outputs": [],
   "source": [
    "df = pd.read_csv(\"datasets/combined_dataset.csv\")"
   ]
  },
  {
   "cell_type": "code",
   "execution_count": 6,
   "metadata": {},
   "outputs": [
    {
     "name": "stdout",
     "output_type": "stream",
     "text": [
      "['harmful' 'safe']\n",
      "Type\n",
      "harmful    1400\n",
      "safe       1400\n",
      "Name: count, dtype: int64\n"
     ]
    }
   ],
   "source": [
    "label_encoder = LabelEncoder()\n",
    "y = label_encoder.fit_transform(df['Type'])\n",
    "print(label_encoder.classes_)\n",
    "type_counts = df['Type'].value_counts()\n",
    "\n",
    "print(type_counts)"
   ]
  },
  {
   "cell_type": "code",
   "execution_count": 7,
   "metadata": {},
   "outputs": [],
   "source": [
    "# Split data into train and test sets\n",
    "X_train, X_test, y_train, y_test = train_test_split(df[['Content']], y, test_size=0.2, random_state=42)\n",
    "\n",
    "# Initialize and fit TF-IDF vectorizer on training data\n",
    "vectorizer = TfidfVectorizer()\n",
    "X_train_transformed = vectorizer.fit_transform(X_train['Content'])\n",
    "X_test_transformed = vectorizer.transform(X_test['Content']) "
   ]
  },
  {
   "cell_type": "code",
   "execution_count": 8,
   "metadata": {},
   "outputs": [],
   "source": [
    "# Create a svm classfier\n",
    "clf = svm.SVC(kernel='linear')\n",
    "\n",
    "# Train the model using training set\n",
    "clf = SVC(probability=True)\n",
    "clf.fit(X_train_transformed, y_train)\n",
    "\n",
    "# Predict the response of dataset\n",
    "y_pred = clf.predict(X_test_transformed)\n",
    "\n",
    "# # Perform cross-validation with 5 folds\n",
    "# cv_scores = cross_val_score(clf, X_train_transformed, y_train, cv=5, scoring='accuracy')\n",
    "\n",
    "# # Print cross-validation scores and average\n",
    "# print(f\"Cross-validation scores: {cv_scores}\")\n",
    "# print(f\"Average cross-validation score: {cv_scores.mean():.4f}\")"
   ]
  },
  {
   "cell_type": "code",
   "execution_count": 9,
   "metadata": {},
   "outputs": [
    {
     "name": "stdout",
     "output_type": "stream",
     "text": [
      "Training Accuracy: 0.9995535714285714\n",
      "Test Accuracy: 0.9321428571428572\n"
     ]
    }
   ],
   "source": [
    "# Predict the response on training data\n",
    "y_train_pred = clf.predict(X_train_transformed)\n",
    "\n",
    "# Calculate the training accuracy\n",
    "train_accuracy = accuracy_score(y_train, y_train_pred)\n",
    "print(f\"Training Accuracy: {train_accuracy}\")\n",
    "\n",
    "# Calculate the test accuracy\n",
    "test_accuracy = accuracy_score(y_test, y_pred)\n",
    "print(f\"Test Accuracy: {test_accuracy}\")"
   ]
  },
  {
   "cell_type": "code",
   "execution_count": 10,
   "metadata": {},
   "outputs": [
    {
     "data": {
      "image/png": "[encoded data removed]",
      "text/plain": [
       "<Figure size 800x600 with 2 Axes>"
      ]
     },
     "metadata": {},
     "output_type": "display_data"
    }
   ],
   "source": [
    "\n",
    "clf.fit(X_train_transformed, y_train)\n",
    "predictions = cross_val_predict(clf, X_train_transformed, y_train, cv=5)\n",
    "\n",
    "conf_matrix = confusion_matrix(y_train, predictions)\n",
    "plt.figure(figsize=(8, 6))\n",
    "sns.heatmap(conf_matrix, annot=True, fmt=\"d\", cmap=\"Greens\", xticklabels=label_encoder.classes_, yticklabels=label_encoder.classes_)\n",
    "plt.xlabel('Predicted')\n",
    "plt.ylabel('True')\n",
    "plt.title('Confusion Matrix')\n",
    "\n",
    "plt.show()"
   ]
  },
  {
   "cell_type": "code",
   "execution_count": 11,
   "metadata": {},
   "outputs": [
    {
     "name": "stdout",
     "output_type": "stream",
     "text": [
      "              precision    recall  f1-score   support\n",
      "\n",
      "           0       0.94      0.92      0.93       275\n",
      "           1       0.92      0.95      0.93       285\n",
      "\n",
      "    accuracy                           0.93       560\n",
      "   macro avg       0.93      0.93      0.93       560\n",
      "weighted avg       0.93      0.93      0.93       560\n",
      "\n"
     ]
    }
   ],
   "source": [
    "print(classification_report(y_test, y_pred))"
   ]
  },
  {
   "cell_type": "code",
   "execution_count": 12,
   "metadata": {},
   "outputs": [
    {
     "name": "stdout",
     "output_type": "stream",
     "text": [
      "Metrics train:\n",
      "\tAccuracy score: 0.9996\n",
      "Metrics test:\n",
      "\tAccuracy score: 0.9321\n"
     ]
    }
   ],
   "source": [
    "# Predict on training and test data\n",
    "y_train_pred = clf.predict(X_train_transformed)\n",
    "y_test_pred = clf.predict(X_test_transformed)\n",
    "\n",
    "# Print training accuracy\n",
    "print(f\"Metrics train:\\n\\tAccuracy score: {accuracy_score(y_train, y_train_pred):.4f}\")\n",
    "\n",
    "# Print test accuracy\n",
    "print(f\"Metrics test:\\n\\tAccuracy score: {accuracy_score(y_test, y_test_pred):.4f}\")"
   ]
  },
  {
   "cell_type": "code",
   "execution_count": 13,
   "metadata": {},
   "outputs": [
    {
     "name": "stdout",
     "output_type": "stream",
     "text": [
      "[[9.99999877e-01 1.22590885e-07]]\n",
      "URL: -> harmful\n",
      "[[0.44750725 0.55249275]]\n",
      "Text: -> safe\n",
      "Final Prediction: harmful\n"
     ]
    }
   ],
   "source": [
    "url = \"https://www.exeter.ac.uk/\"\n",
    "\n",
    "url_transformed = vectorizer.transform([url])\n",
    "\n",
    "# Predict using the trained model\n",
    "decision_prediction = clf.predict(url_transformed)\n",
    "\n",
    "# Inverse transform the prediction if necessary (e.g., for label encoding)\n",
    "decision_predicted_class = label_encoder.inverse_transform(decision_prediction)\n",
    "\n",
    "probs_url = clf.predict_proba(url_transformed)\n",
    "print(probs_url)\n",
    "\n",
    "# Output the prediction (safe or phishing)\n",
    "print(f\"URL: -> {decision_predicted_class[0]}\")\n",
    "\n",
    "text = \"Someone just bought this item Ocean Golden Drop Earrings 2 Minutes ago FREE SHIPPING THIS WEEK ORDER OVER - $55 USD $ EUR € English Español Français 0 0 HOME CATEGORIES MEN'S WOMEN'S JEWELYR PERFUME BLOG HOT OFFERS Trending Item WOMEN'S LATEST FASHION SALE Startting at $ 20.00 SHOP NOW\"\n",
    "# text = \"nur deeni\"\n",
    "\n",
    "text_transformed = vectorizer.transform([text]) \n",
    "\n",
    "# Predict using the trained RandomForest model\n",
    "decision_prediction = clf.predict(text_transformed)\n",
    "\n",
    "decision_predicted_class = label_encoder.inverse_transform(decision_prediction)\n",
    "\n",
    "probs_text = clf.predict_proba(text_transformed)\n",
    "print(probs_text)\n",
    "\n",
    "print(f\"Text: -> {decision_predicted_class[0]}\")\n",
    "\n",
    "w_url = 0.3  # Weight for URL\n",
    "w_text = 0.7  # Weight for Text\n",
    "\n",
    "combined_prob_harmful = (w_url * probs_url[0][0]) + (w_text * probs_text[0][0])\n",
    "combined_prob_safe = (w_url * probs_url[0][1]) + (w_text * probs_text[0][1])\n",
    "\n",
    "final_prediction = 1 if combined_prob_safe > combined_prob_harmful else 0\n",
    "final_predicted_class = label_encoder.inverse_transform([final_prediction])\n",
    "\n",
    "print(f\"Final Prediction: {final_predicted_class[0]}\")"
   ]
  },
  {
   "cell_type": "code",
   "execution_count": 14,
   "metadata": {},
   "outputs": [
    {
     "data": {
      "text/plain": [
       "['label_encoder.pkl']"
      ]
     },
     "execution_count": 14,
     "metadata": {},
     "output_type": "execute_result"
    }
   ],
   "source": [
    "import joblib\n",
    "\n",
    "joblib.dump(clf, \"model.pkl\")\n",
    "joblib.dump(vectorizer, \"vectorizer.pkl\") \n",
    "joblib.dump(label_encoder, \"label_encoder.pkl\")"
   ]
  },
  {
   "cell_type": "code",
   "execution_count": 15,
   "metadata": {},
   "outputs": [],
   "source": [
    "# -------------------------------- CODE BELOW IS TO EVALUATE MODEL PERFORMANCE & TESTING PURPOSES ------------------------------------"
   ]
  },
  {
   "cell_type": "code",
   "execution_count": 16,
   "metadata": {},
   "outputs": [],
   "source": [
    "# import matplotlib.pyplot as plt\n",
    "# from lime.lime_text import LimeTextExplainer\n",
    "\n",
    "# # 1. Setup as before\n",
    "# class_names = label_encoder.classes_.tolist()\n",
    "# explainer = LimeTextExplainer(class_names=class_names)\n",
    "\n",
    "# def predict_proba(texts):\n",
    "#     transformed_texts = vectorizer.transform(texts)\n",
    "#     return clf.predict_proba(transformed_texts)\n",
    "\n",
    "# # 2. Your custom input text\n",
    "# custom_text = \"\"\"\n",
    "# Congratulations! You've won a free iPhone. Click here to claim your prize.\n",
    "# This is not a scam, just pay for shipping.\n",
    "# \"\"\"\n",
    "\n",
    "# # 3. Explain instance\n",
    "# exp = explainer.explain_instance(custom_text, predict_proba, num_features=10)\n",
    "\n",
    "# # 4. Save explanation as an image\n",
    "# fig = exp.as_pyplot_figure()\n",
    "# fig.savefig(\"harmful text.png\", dpi=300, bbox_inches='tight')\n",
    "# plt.close(fig) \n"
   ]
  },
  {
   "cell_type": "code",
   "execution_count": 17,
   "metadata": {},
   "outputs": [],
   "source": [
    "# from lime.lime_text import LimeTextExplainer\n",
    "\n",
    "# # Your label encoder class names\n",
    "# class_names = label_encoder.classes_.tolist()\n",
    "\n",
    "# # Create LIME Text Explainer\n",
    "# explainer = LimeTextExplainer(class_names=class_names)\n",
    "\n",
    "# # Your model’s probability prediction function\n",
    "# def predict_proba(texts):\n",
    "#     transformed_texts = vectorizer.transform(texts)\n",
    "#     return clf.predict_proba(transformed_texts)\n",
    "\n",
    "# # 🔹 CUSTOM TEXT INPUT (e.g., content scraped from a URL)\n",
    "# custom_text = \"\"\"\n",
    "# Today is such a nice day out I cannot believe how sunny it is!\n",
    "# \"\"\"  # Replace with your actual content\n",
    "\n",
    "# # 3. Explain instance\n",
    "# exp = explainer.explain_instance(custom_text, predict_proba, num_features=10)\n",
    "\n",
    "# # 4. Save explanation as an image\n",
    "# fig = exp.as_pyplot_figure()\n",
    "# fig.savefig(\"safe text.png\", dpi=300, bbox_inches='tight')\n",
    "# plt.close(fig) "
   ]
  },
  {
   "cell_type": "code",
   "execution_count": 18,
   "metadata": {},
   "outputs": [],
   "source": [
    "# from lime.lime_text import LimeTextExplainer\n",
    "\n",
    "# # Your label encoder class names\n",
    "# class_names = label_encoder.classes_.tolist()\n",
    "\n",
    "# # Create LIME Text Explainer\n",
    "# explainer = LimeTextExplainer(class_names=class_names)\n",
    "\n",
    "# # Your model’s probability prediction function\n",
    "# def predict_proba(texts):\n",
    "#     transformed_texts = vectorizer.transform(texts)\n",
    "#     return clf.predict_proba(transformed_texts)\n",
    "\n",
    "# # 🔹 CUSTOM TEXT INPUT (e.g., content scraped from a URL)\n",
    "# custom_text = \"\"\"\n",
    "# https://win-free-iphone-ClaimNow.com\n",
    "# \"\"\"  # Replace with your actual content\n",
    "\n",
    "# # 3. Explain instance\n",
    "# exp = explainer.explain_instance(custom_text, predict_proba, num_features=10)\n",
    "\n",
    "# # 4. Save explanation as an image\n",
    "# fig = exp.as_pyplot_figure()\n",
    "# fig.savefig(\"harmful url.png\", dpi=300, bbox_inches='tight')\n",
    "# plt.close(fig)  \n"
   ]
  },
  {
   "cell_type": "code",
   "execution_count": 19,
   "metadata": {},
   "outputs": [],
   "source": [
    "# from lime.lime_text import LimeTextExplainer\n",
    "\n",
    "# # Your label encoder class names\n",
    "# class_names = label_encoder.classes_.tolist()\n",
    "\n",
    "# # Create LIME Text Explainer\n",
    "# explainer = LimeTextExplainer(class_names=class_names)\n",
    "\n",
    "# # Your model’s probability prediction function\n",
    "# def predict_proba(texts):\n",
    "#     transformed_texts = vectorizer.transform(texts)\n",
    "#     return clf.predict_proba(transformed_texts)\n",
    "\n",
    "# # 🔹 CUSTOM TEXT INPUT (e.g., content scraped from a URL)\n",
    "# custom_text = \"\"\"\n",
    "# https://exetermosque.org.uk/\n",
    "# \"\"\"  # Replace with your actual content\n",
    "\n",
    "# # 3. Explain instance\n",
    "# exp = explainer.explain_instance(custom_text, predict_proba, num_features=10)\n",
    "\n",
    "# # 4. Save explanation as an image\n",
    "# fig = exp.as_pyplot_figure()\n",
    "# fig.savefig(\"safe url.png\", dpi=300, bbox_inches='tight')\n",
    "# plt.close(fig)"
   ]
  },
  {
   "cell_type": "code",
   "execution_count": null,
   "metadata": {},
   "outputs": [],
   "source": [
    "# from lime.lime_text import LimeTextExplainer\n",
    "\n",
    "# # Your label encoder class names\n",
    "# class_names = label_encoder.classes_.tolist()\n",
    "\n",
    "# # Create LIME Text Explainer\n",
    "# explainer = LimeTextExplainer(class_names=class_names)\n",
    "\n",
    "# # Your model’s probability prediction function\n",
    "# def predict_proba(texts):\n",
    "#     transformed_texts = vectorizer.transform(texts)\n",
    "#     return clf.predict_proba(transformed_texts)\n",
    "\n",
    "# custom_text = \"Someone just bought this item Ocean Golden Drop Earrings 2 Minutes ago FREE SHIPPING THIS WEEK ORDER OVER - $55 USD $ EUR € English Español Français 0 0 HOME CATEGORIES MEN'S WOMEN'S JEWELYR PERFUME BLOG HOT OFFERS Trending Item WOMEN'S LATEST FASHION SALE Startting at $ 20.00 SHOP NOW\"\n",
    "\n",
    "# # 3. Explain instance\n",
    "# exp = explainer.explain_instance(custom_text, predict_proba, num_features=10)\n",
    "\n",
    "# # 4. Save explanation as an image\n",
    "# fig = exp.as_pyplot_figure()\n",
    "# fig.savefig(\"test2.png\", dpi=300, bbox_inches='tight')\n",
    "# plt.close(fig)"
   ]
  },
  {
   "cell_type": "code",
   "execution_count": 21,
   "metadata": {},
   "outputs": [],
   "source": [
    "# import glob\n",
    "# import pandas as pd\n",
    "# from sklearn.model_selection import train_test_split\n",
    "# from sklearn.preprocessing import LabelEncoder\n",
    "# from sklearn.feature_extraction.text import TfidfVectorizer\n",
    "# from sklearn.tree import DecisionTreeClassifier\n",
    "# from sklearn.metrics import classification_report\n",
    "\n",
    "# # Use glob to search for all CSV files that follow a naming convention.\n",
    "# # For example, if all your datasets are named like 'new_dataset_60_40.csv', 'new_dataset_70_30.csv', etc.\n",
    "# dataset_files = glob.glob(\"new_dataset_*.csv\")  # adjust folder/path as needed\n",
    "\n",
    "# # Loop through each dataset and perform training and evaluation\n",
    "# for file_path in dataset_files:\n",
    "#     print(f\"Processing dataset: {file_path}\")\n",
    "    \n",
    "#     # Read the dataset\n",
    "#     df = pd.read_csv(file_path)\n",
    "    \n",
    "#     # Encode the labels\n",
    "#     label_encoder = LabelEncoder()\n",
    "#     y = label_encoder.fit_transform(df['Type'])\n",
    "    \n",
    "#     # Split the data into training and testing sets\n",
    "#     X_train, X_test, y_train, y_test = train_test_split(df[['Content']], y, test_size=0.2, random_state=42)\n",
    "    \n",
    "#     # Initialize and fit TF-IDF vectorizer on training data\n",
    "#     vectorizer = TfidfVectorizer()\n",
    "#     X_train_transformed = vectorizer.fit_transform(X_train['Content'])\n",
    "#     X_test_transformed = vectorizer.transform(X_test['Content'])\n",
    "    \n",
    "#     # Create a svm classfier\n",
    "#     clf = SVC(kernel='linear', probability=True, class_weight='balanced')\n",
    "\n",
    "\n",
    "#     # Train the model using training set\n",
    "#     clf = SVC(probability=True)\n",
    "#     clf.fit(X_train_transformed, y_train)\n",
    "\n",
    "#     # Predict the response of dataset\n",
    "#     y_pred = clf.predict(X_test_transformed)\n",
    "    \n",
    "#     # Print the classification report for the current dataset\n",
    "#     report = classification_report(y_test, y_pred)\n",
    "#     print(\"Classification Report:\")\n",
    "#     print(report)\n",
    "#     print(\"-\" * 40)\n"
   ]
  }
 ],
 "metadata": {
  "kernelspec": {
   "display_name": "Python 3",
   "language": "python",
   "name": "python3"
  },
  "language_info": {
   "codemirror_mode": {
    "name": "ipython",
    "version": 3
   },
   "file_extension": ".py",
   "mimetype": "text/x-python",
   "name": "python",
   "nbconvert_exporter": "python",
   "pygments_lexer": "ipython3",
   "version": "3.13.1"
  }
 },
 "nbformat": 4,
 "nbformat_minor": 2
}
