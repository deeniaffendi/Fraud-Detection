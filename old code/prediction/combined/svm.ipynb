{
 "cells": [
  {
   "cell_type": "code",
   "execution_count": 1,
   "metadata": {},
   "outputs": [],
   "source": [
    "import pandas as pd\n",
    "from sklearn.model_selection import train_test_split\n",
    "from sklearn import svm\n",
    "from sklearn import metrics\n",
    "from sklearn.preprocessing import LabelEncoder\n",
    "from sklearn.decomposition import PCA\n",
    "import numpy as np\n",
    "import matplotlib.pyplot as plt\n",
    "from sklearn.metrics import accuracy_score\n",
    "from sklearn.metrics import confusion_matrix, classification_report\n",
    "from sklearn.feature_extraction.text import TfidfVectorizer\n",
    "from sklearn.svm import SVC\n",
    "from sklearn.model_selection import cross_val_predict, cross_val_score\n",
    "import seaborn as sns"
   ]
  },
  {
   "cell_type": "code",
   "execution_count": 2,
   "metadata": {},
   "outputs": [],
   "source": [
    "df = pd.read_csv(\"combined_dataset.csv\")"
   ]
  },
  {
   "cell_type": "code",
   "execution_count": 3,
   "metadata": {},
   "outputs": [
    {
     "name": "stdout",
     "output_type": "stream",
     "text": [
      "['harmful' 'safe']\n"
     ]
    }
   ],
   "source": [
    "label_encoder = LabelEncoder()\n",
    "y = label_encoder.fit_transform(df['Type'])\n",
    "print(label_encoder.classes_)"
   ]
  },
  {
   "cell_type": "code",
   "execution_count": 4,
   "metadata": {},
   "outputs": [],
   "source": [
    "# Split data into train and test sets\n",
    "X_train, X_test, y_train, y_test = train_test_split(df[['Content']], y, test_size=0.2, random_state=42)\n",
    "\n",
    "# Initialize and fit TF-IDF vectorizer on training data\n",
    "vectorizer = TfidfVectorizer()\n",
    "X_train_transformed = vectorizer.fit_transform(X_train['Content'])\n",
    "X_test_transformed = vectorizer.transform(X_test['Content']) "
   ]
  },
  {
   "cell_type": "code",
   "execution_count": 5,
   "metadata": {},
   "outputs": [
    {
     "name": "stdout",
     "output_type": "stream",
     "text": [
      "Cross-validation scores: [0.93125 0.8875  0.875   0.9125  0.8875 ]\n",
      "Average cross-validation score: 0.8988\n"
     ]
    }
   ],
   "source": [
    "# Create a svm classfier\n",
    "clf = svm.SVC(kernel='linear')\n",
    "\n",
    "# Train the model using training set\n",
    "clf = SVC(probability=True)\n",
    "clf.fit(X_train_transformed, y_train)\n",
    "\n",
    "# Predict the response of dataset\n",
    "y_pred = clf.predict(X_test_transformed)\n",
    "\n",
    "# Perform cross-validation with 5 folds\n",
    "cv_scores = cross_val_score(clf, X_train_transformed, y_train, cv=5, scoring='accuracy')\n",
    "\n",
    "# Print cross-validation scores and average\n",
    "print(f\"Cross-validation scores: {cv_scores}\")\n",
    "print(f\"Average cross-validation score: {cv_scores.mean():.4f}\")"
   ]
  },
  {
   "cell_type": "code",
   "execution_count": 6,
   "metadata": {},
   "outputs": [
    {
     "name": "stdout",
     "output_type": "stream",
     "text": [
      "Cross-validation scores: [0.9625 0.9125 0.8875 0.9125 0.9125 0.8625 0.9625 0.8625 0.9125 0.85  ]\n",
      "Average cross-validation score: 0.9037\n"
     ]
    }
   ],
   "source": [
    "cv_scores = cross_val_score(clf, X_train_transformed, y_train, cv=10, scoring='accuracy')\n",
    "\n",
    "# Print cross-validation scores and average\n",
    "print(f\"Cross-validation scores: {cv_scores}\")\n",
    "print(f\"Average cross-validation score: {cv_scores.mean():.4f}\")"
   ]
  },
  {
   "cell_type": "code",
   "execution_count": 7,
   "metadata": {},
   "outputs": [
    {
     "name": "stdout",
     "output_type": "stream",
     "text": [
      "Cross-validation scores: [0.89513109 0.89513109 0.87218045]\n",
      "Average cross-validation score: 0.8875\n"
     ]
    }
   ],
   "source": [
    "cv_scores = cross_val_score(clf, X_train_transformed, y_train, cv=3, scoring='accuracy')\n",
    "\n",
    "# Print cross-validation scores and average\n",
    "print(f\"Cross-validation scores: {cv_scores}\")\n",
    "print(f\"Average cross-validation score: {cv_scores.mean():.4f}\")"
   ]
  },
  {
   "cell_type": "code",
   "execution_count": 8,
   "metadata": {},
   "outputs": [
    {
     "name": "stdout",
     "output_type": "stream",
     "text": [
      "Training Accuracy: 0.99875\n",
      "Test Accuracy: 0.91\n"
     ]
    }
   ],
   "source": [
    "# Predict the response on training data\n",
    "y_train_pred = clf.predict(X_train_transformed)\n",
    "\n",
    "# Calculate the training accuracy\n",
    "train_accuracy = accuracy_score(y_train, y_train_pred)\n",
    "print(f\"Training Accuracy: {train_accuracy}\")\n",
    "\n",
    "# Calculate the test accuracy\n",
    "test_accuracy = accuracy_score(y_test, y_pred)\n",
    "print(f\"Test Accuracy: {test_accuracy}\")"
   ]
  },
  {
   "cell_type": "code",
   "execution_count": 9,
   "metadata": {},
   "outputs": [
    {
     "data": {
      "image/png": "[encoded data removed]",
      "text/plain": [
       "<Figure size 800x600 with 2 Axes>"
      ]
     },
     "metadata": {},
     "output_type": "display_data"
    }
   ],
   "source": [
    "\n",
    "clf.fit(X_train_transformed, y_train)\n",
    "predictions = cross_val_predict(clf, X_train_transformed, y_train, cv=5)\n",
    "\n",
    "conf_matrix = confusion_matrix(y_train, predictions)\n",
    "plt.figure(figsize=(8, 6))\n",
    "sns.heatmap(conf_matrix, annot=True, fmt=\"d\", cmap=\"Greens\", xticklabels=label_encoder.classes_, yticklabels=label_encoder.classes_)\n",
    "plt.xlabel('Predicted')\n",
    "plt.ylabel('True')\n",
    "plt.title('Confusion Matrix')\n",
    "plt.show()"
   ]
  },
  {
   "cell_type": "code",
   "execution_count": 10,
   "metadata": {},
   "outputs": [
    {
     "name": "stdout",
     "output_type": "stream",
     "text": [
      "              precision    recall  f1-score   support\n",
      "\n",
      "           0       0.93      0.89      0.91        99\n",
      "           1       0.90      0.93      0.91       101\n",
      "\n",
      "    accuracy                           0.91       200\n",
      "   macro avg       0.91      0.91      0.91       200\n",
      "weighted avg       0.91      0.91      0.91       200\n",
      "\n"
     ]
    }
   ],
   "source": [
    "print(classification_report(y_test, y_pred))"
   ]
  },
  {
   "cell_type": "code",
   "execution_count": 11,
   "metadata": {},
   "outputs": [
    {
     "name": "stdout",
     "output_type": "stream",
     "text": [
      "Metrics train:\n",
      "\tAccuracy score: 0.9988\n",
      "Metrics test:\n",
      "\tAccuracy score: 0.9100\n"
     ]
    }
   ],
   "source": [
    "# Predict on training and test data\n",
    "y_train_pred = clf.predict(X_train_transformed)\n",
    "y_test_pred = clf.predict(X_test_transformed)\n",
    "\n",
    "# Print training accuracy\n",
    "print(f\"Metrics train:\\n\\tAccuracy score: {accuracy_score(y_train, y_train_pred):.4f}\")\n",
    "\n",
    "# Print test accuracy\n",
    "print(f\"Metrics test:\\n\\tAccuracy score: {accuracy_score(y_test, y_test_pred):.4f}\")"
   ]
  },
  {
   "cell_type": "code",
   "execution_count": 12,
   "metadata": {},
   "outputs": [
    {
     "name": "stdout",
     "output_type": "stream",
     "text": [
      "Random Forest prediction for: 'https://google.com' -> safe\n"
     ]
    }
   ],
   "source": [
    "# Example URL to predict\n",
    "# url = \"https://eezxodullgeunn.webflow.io\"\n",
    "# url = \"https://www.coursera.org/\"\n",
    "url = \"https://google.com\"\n",
    "\n",
    "url_transformed = vectorizer.transform([url])\n",
    "\n",
    "# Predict using the trained model\n",
    "decision_prediction = clf.predict(url_transformed)\n",
    "\n",
    "# Inverse transform the prediction if necessary (e.g., for label encoding)\n",
    "decision_predicted_class = label_encoder.inverse_transform(decision_prediction)\n",
    "\n",
    "# Output the prediction (safe or phishing)\n",
    "print(f\"Random Forest prediction for: '{url}' -> {decision_predicted_class[0]}\")"
   ]
  },
  {
   "cell_type": "code",
   "execution_count": 13,
   "metadata": {},
   "outputs": [
    {
     "name": "stdout",
     "output_type": "stream",
     "text": [
      "Random Forest prediction for: 'Choose your path. Grow your career. Expert-led programs. Job-ready certificates. 10,000+ ways to grow. All for $25/month, billed annually. Save on Coursera Plus Save on Teams We collaborate with 350+ leading universities and companies Choose your role Gain the knowledge and skills you need to advance. Beginner Popular' -> harmful\n"
     ]
    }
   ],
   "source": [
    "# text = \"u r subscribed 2 TEXTCOMP 250 wkly comp. 1st wk?s free question follows, subsequent wks charged@150p/msg.2 unsubscribe txt STOP 2 84128,custcare 08712405020\"\n",
    "text = \"Choose your path. Grow your career. Expert-led programs. Job-ready certificates. 10,000+ ways to grow. All for $25/month, billed annually. Save on Coursera Plus Save on Teams We collaborate with 350+ leading universities and companies Choose your role Gain the knowledge and skills you need to advance. Beginner Popular\"\n",
    "\n",
    "text_transformed = vectorizer.transform([text]) \n",
    "\n",
    "# Predict using the trained RandomForest model\n",
    "decision_prediction = clf.predict(text_transformed)\n",
    "\n",
    "decision_predicted_class = label_encoder.inverse_transform(decision_prediction)\n",
    "\n",
    "print(f\"Random Forest prediction for: '{text}' -> {decision_predicted_class[0]}\")"
   ]
  },
  {
   "cell_type": "code",
   "execution_count": 14,
   "metadata": {},
   "outputs": [],
   "source": [
    "# import joblib\n",
    "\n",
    "# joblib.dump(clf, \"model.pkl\")\n",
    "# joblib.dump(vectorizer, \"vectorizer.pkl\") \n",
    "# joblib.dump(label_encoder, \"label_encoder.pkl\")"
   ]
  },
  {
   "cell_type": "code",
   "execution_count": 15,
   "metadata": {},
   "outputs": [],
   "source": [
    "from lime.lime_text import LimeTextExplainer\n",
    "import numpy as np\n",
    "\n",
    "# This maps encoded labels (0 and 1) back to the class names (e.g., 'Safe', 'Harmful')\n",
    "class_names = label_encoder.classes_.tolist()\n",
    "\n",
    "# 1. Create a LIME Text Explainer (since your data is text!)\n",
    "explainer = LimeTextExplainer(class_names=class_names)\n",
    "\n",
    "# 2. Define a wrapper for your model's predict_proba that takes raw text input\n",
    "# and returns probabilities (LIME needs this format)\n",
    "def predict_proba(texts):\n",
    "    transformed_texts = vectorizer.transform(texts)\n",
    "    return clf.predict_proba(transformed_texts)\n",
    "\n",
    "# 3. Pick a test sample to explain\n",
    "i = 0\n",
    "text_instance = X_test.iloc[i]['Content']\n",
    "\n",
    "# 4. Explain the prediction\n",
    "exp = explainer.explain_instance(\n",
    "    text_instance,\n",
    "    predict_proba,\n",
    "    num_features=10  # Number of words to show in explanation\n",
    ")\n",
    "\n",
    "# 5. Show explanation\n",
    "exp.save_to_file('lime_explanation.html')\n"
   ]
  }
 ],
 "metadata": {
  "kernelspec": {
   "display_name": "Python 3",
   "language": "python",
   "name": "python3"
  },
  "language_info": {
   "codemirror_mode": {
    "name": "ipython",
    "version": 3
   },
   "file_extension": ".py",
   "mimetype": "text/x-python",
   "name": "python",
   "nbconvert_exporter": "python",
   "pygments_lexer": "ipython3",
   "version": "3.13.1"
  }
 },
 "nbformat": 4,
 "nbformat_minor": 2
}
