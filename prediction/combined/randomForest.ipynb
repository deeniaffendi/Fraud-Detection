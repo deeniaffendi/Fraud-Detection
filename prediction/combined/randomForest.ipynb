{
 "cells": [
  {
   "cell_type": "code",
   "execution_count": 42,
   "metadata": {},
   "outputs": [],
   "source": [
    "import pandas as pd\n",
    "from sklearn.model_selection import train_test_split\n",
    "from sklearn.preprocessing import LabelEncoder\n",
    "from sklearn.ensemble import RandomForestClassifier\n",
    "import matplotlib.pyplot as plt\n",
    "from xgboost import XGBClassifier\n",
    "from sklearn.metrics import accuracy_score, confusion_matrix, classification_report\n",
    "import seaborn as sns\n",
    "from sklearn.feature_extraction.text import TfidfVectorizer\n",
    "from sklearn.model_selection import cross_val_score\n",
    "from sklearn.ensemble import RandomForestClassifier\n",
    "from sklearn.model_selection import cross_val_predict\n",
    "from sklearn.metrics import confusion_matrix, classification_report\n",
    "\n",
    "plt.style.use('./deeplearning.mplstyle')\n",
    "RANDOM_STATE = 30"
   ]
  },
  {
   "cell_type": "code",
   "execution_count": 43,
   "metadata": {},
   "outputs": [],
   "source": [
    "# df = pd.read_csv(\"training_malicious_url.csv\")\n",
    "df = pd.read_csv(\"combined_dataset.csv\")\n",
    "# df.head()"
   ]
  },
  {
   "cell_type": "code",
   "execution_count": 44,
   "metadata": {},
   "outputs": [
    {
     "name": "stdout",
     "output_type": "stream",
     "text": [
      "['harmful' 'safe']\n"
     ]
    }
   ],
   "source": [
    "label_encoder = LabelEncoder()\n",
    "y = label_encoder.fit_transform(df['Type'])\n",
    "print(label_encoder.classes_)"
   ]
  },
  {
   "cell_type": "code",
   "execution_count": 45,
   "metadata": {},
   "outputs": [],
   "source": [
    "# Split data into train and test sets\n",
    "X_train, X_test, y_train, y_test = train_test_split(df[['Content']], y, test_size=0.3, random_state=42)\n",
    "\n",
    "# Initialize and fit TF-IDF vectorizer on training data\n",
    "vectorizer = TfidfVectorizer()\n",
    "X_train_transformed = vectorizer.fit_transform(X_train['Content'])\n",
    "X_test_transformed = vectorizer.transform(X_test['Content']) "
   ]
  },
  {
   "cell_type": "code",
   "execution_count": 46,
   "metadata": {},
   "outputs": [
    {
     "name": "stdout",
     "output_type": "stream",
     "text": [
      "Cross-validation scores: [0.92857143 0.90714286 0.90714286 0.87142857 0.90714286]\n",
      "Average cross-validation score: 0.9043\n"
     ]
    }
   ],
   "source": [
    "model = RandomForestClassifier(random_state=42)\n",
    "\n",
    "# Perform cross-validation with 5 folds\n",
    "cv_scores = cross_val_score(model, X_train_transformed, y_train, cv=5, scoring='accuracy')\n",
    "\n",
    "# Print cross-validation scores and average\n",
    "print(f\"Cross-validation scores: {cv_scores}\")\n",
    "print(f\"Average cross-validation score: {cv_scores.mean():.4f}\")"
   ]
  },
  {
   "cell_type": "code",
   "execution_count": 47,
   "metadata": {},
   "outputs": [
    {
     "data": {
      "image/png": "[encoded data removed]",
      "text/plain": [
       "<Figure size 800x600 with 2 Axes>"
      ]
     },
     "metadata": {},
     "output_type": "display_data"
    }
   ],
   "source": [
    "\n",
    "model.fit(X_train_transformed, y_train)\n",
    "predictions = cross_val_predict(model, X_train_transformed, y_train, cv=5)\n",
    "\n",
    "conf_matrix = confusion_matrix(y_train, predictions)\n",
    "plt.figure(figsize=(8, 6))\n",
    "sns.heatmap(conf_matrix, annot=True, fmt=\"d\", cmap=\"Blues\", xticklabels=label_encoder.classes_, yticklabels=label_encoder.classes_)\n",
    "plt.xlabel('Predicted')\n",
    "plt.ylabel('True')\n",
    "plt.title('Confusion Matrix')\n",
    "plt.show()"
   ]
  },
  {
   "cell_type": "code",
   "execution_count": 48,
   "metadata": {},
   "outputs": [
    {
     "name": "stdout",
     "output_type": "stream",
     "text": [
      "Classification Report:\n",
      "               precision    recall  f1-score   support\n",
      "\n",
      "           0       0.98      0.83      0.90       353\n",
      "           1       0.85      0.98      0.91       347\n",
      "\n",
      "    accuracy                           0.90       700\n",
      "   macro avg       0.91      0.90      0.90       700\n",
      "weighted avg       0.91      0.90      0.90       700\n",
      "\n"
     ]
    }
   ],
   "source": [
    "# Classification Report\n",
    "class_report = classification_report(y_train, predictions)\n",
    "print(\"Classification Report:\\n\", class_report)"
   ]
  },
  {
   "cell_type": "code",
   "execution_count": 49,
   "metadata": {},
   "outputs": [],
   "source": [
    "# Get the number of rows in the sparse matrix\n",
    "n = int(X_train_transformed.shape[0] * 0.8)\n",
    "\n",
    "# Split the data into training and evaluation sets\n",
    "X_train_fit, X_train_eval, y_train_fit, y_train_eval = X_train_transformed[:n], X_train_transformed[n:], y_train[:n], y_train[n:]\n"
   ]
  },
  {
   "cell_type": "code",
   "execution_count": 50,
   "metadata": {},
   "outputs": [],
   "source": [
    "# eval_set = [(X_train_eval,y_train_eval)]\n",
    "# # early_stopping_rounds = 10\n",
    "\n",
    "# xgb_model = XGBClassifier(n_estimators = 200, learning_rate = 0.05, max_depth=6, verbosity = 1, random_state = RANDOM_STATE, early_stopping_rounds=10)\n",
    "# xgb_model.fit(X_train_fit,y_train_fit, eval_set = [(X_train_eval,y_train_eval)])"
   ]
  },
  {
   "cell_type": "code",
   "execution_count": 51,
   "metadata": {},
   "outputs": [],
   "source": [
    "# xgb_model.best_iteration"
   ]
  },
  {
   "cell_type": "code",
   "execution_count": 52,
   "metadata": {},
   "outputs": [],
   "source": [
    "# print(f\"Metrics train:\\n\\tAccuracy score: {accuracy_score(xgb_model.predict(X_train_transformed), y_train):.4f}\")\n",
    "# print(f\"Metrics test:\\n\\tAccuracy score: {accuracy_score(xgb_model.predict(X_test_transformed), y_test):.4f}\")"
   ]
  },
  {
   "cell_type": "code",
   "execution_count": 53,
   "metadata": {},
   "outputs": [],
   "source": [
    "# Get the confusion matrix\n",
    "# cm = confusion_matrix(y_test, xgb_model.predict(X_test_transformed))\n",
    "# print(cm)\n",
    "\n",
    "# Plot confusion matrix\n",
    "# plt.figure(figsize=(8, 6))\n",
    "# sns.heatmap(cm, annot=True, fmt=\"d\", cmap=\"Blues\", xticklabels=label_encoder.classes_, yticklabels=label_encoder.classes_)\n",
    "# plt.xlabel('Predicted')\n",
    "# plt.ylabel('True')\n",
    "# plt.title('Confusion Matrix')\n",
    "# plt.show()"
   ]
  },
  {
   "cell_type": "code",
   "execution_count": 54,
   "metadata": {},
   "outputs": [],
   "source": [
    "# print(classification_report(y_test, xgb_model.predict(X_test_transformed)))"
   ]
  },
  {
   "cell_type": "code",
   "execution_count": 55,
   "metadata": {},
   "outputs": [
    {
     "name": "stdout",
     "output_type": "stream",
     "text": [
      "Random Forest prediction for: 'www.google.com' -> harmful\n"
     ]
    }
   ],
   "source": [
    "# Example URL to predict\n",
    "# url = \"https://eezxodullgeunn.webflow.io\"  # Example phishing URL\n",
    "url = \"www.google.com\"  # Example phishing URL\n",
    "\n",
    "# Transform the URL using the same vectorizer used during training\n",
    "url_transformed = vectorizer.transform([url])  # Make sure the URL is wrapped in a list\n",
    "\n",
    "# Predict using the trained model\n",
    "random_prediction = model.predict(url_transformed)\n",
    "\n",
    "# Inverse transform the prediction if necessary (e.g., for label encoding)\n",
    "random_predicted_class = label_encoder.inverse_transform(random_prediction)\n",
    "\n",
    "# Predict using the trained model\n",
    "# xgb_prediction = xgb_model.predict(url_transformed)\n",
    "\n",
    "# Inverse transform the prediction if necessary (e.g., for label encoding)\n",
    "# xgb_predicted_class = label_encoder.inverse_transform(xgb_prediction)\n",
    "\n",
    "# Output the prediction (safe or phishing)\n",
    "print(f\"Random Forest prediction for: '{url}' -> {random_predicted_class[0]}\")\n",
    "# print(f\"XGBoost Prediction for '{url}' -> {xgb_predicted_class[0]}\")"
   ]
  },
  {
   "cell_type": "code",
   "execution_count": null,
   "metadata": {},
   "outputs": [
    {
     "name": "stdout",
     "output_type": "stream",
     "text": [
      "Random Forest prediction for: 'u r subscribed 2 TEXTCOMP 250 wkly comp. 1st wk?s free question follows, subsequent wks charged@150p/msg.2 unsubscribe txt STOP 2 84128,custcare 08712405020' -> harmful\n",
      "XGBoost Prediction for 'u r subscribed 2 TEXTCOMP 250 wkly comp. 1st wk?s free question follows, subsequent wks charged@150p/msg.2 unsubscribe txt STOP 2 84128,custcare 08712405020' -> harmful\n"
     ]
    }
   ],
   "source": [
    "# Example text for prediction (SMS content)\n",
    "text = \"u r subscribed 2 TEXTCOMP 250 wkly comp. 1st wk?s free question follows, subsequent wks charged@150p/msg.2 unsubscribe txt STOP 2 84128,custcare 08712405020\"\n",
    "\n",
    "# Assuming the vectorizer and models are already trained:\n",
    "# Transform the text using the same vectorizer used during training\n",
    "text_transformed = vectorizer.transform([text])  # Make sure the text is wrapped in a list\n",
    "\n",
    "# Predict using the trained RandomForest model\n",
    "random_prediction = model.predict(text_transformed)\n",
    "\n",
    "# Inverse transform the prediction if necessary (e.g., for label encoding)\n",
    "random_predicted_class = label_encoder.inverse_transform(random_prediction)\n",
    "\n",
    "# Predict using the trained XGBoost model\n",
    "# xgb_prediction = xgb_model.predict(text_transformed)\n",
    "\n",
    "# Inverse transform the prediction if necessary (e.g., for label encoding)\n",
    "# xgb_predicted_class = label_encoder.inverse_transform(xgb_prediction)\n",
    "\n",
    "# Output the predictions (safe or phishing)\n",
    "print(f\"Random Forest prediction for: '{text}' -> {random_predicted_class[0]}\")\n",
    "# print(f\"XGBoost Prediction for '{text}' -> {xgb_predicted_class[0]}\")"
   ]
  }
 ],
 "metadata": {
  "kernelspec": {
   "display_name": "Python 3",
   "language": "python",
   "name": "python3"
  },
  "language_info": {
   "codemirror_mode": {
    "name": "ipython",
    "version": 3
   },
   "file_extension": ".py",
   "mimetype": "text/x-python",
   "name": "python",
   "nbconvert_exporter": "python",
   "pygments_lexer": "ipython3",
   "version": "3.13.1"
  }
 },
 "nbformat": 4,
 "nbformat_minor": 2
}
