{
 "cells": [
  {
   "cell_type": "code",
   "execution_count": 1,
   "metadata": {},
   "outputs": [],
   "source": [
    "import pandas as pd\n",
    "import re\n",
    "from urllib.parse import urlparse\n",
    "from sklearn.model_selection import train_test_split\n",
    "from sklearn.preprocessing import LabelEncoder\n",
    "from sklearn.tree import DecisionTreeClassifier\n",
    "from sklearn.metrics import accuracy_score\n",
    "import matplotlib.pyplot as plt\n",
    "plt.style.use('./deeplearning.mplstyle')\n",
    "\n",
    "RANDOM_STATE = 42"
   ]
  },
  {
   "cell_type": "code",
   "execution_count": 2,
   "metadata": {},
   "outputs": [],
   "source": [
    "df = pd.read_csv(\"malicious_url.csv\")\n",
    "df.head()\n",
    "\n",
    "# Randomly sample 10% of the dataset \n",
    "df_sample = df.head(1000) "
   ]
  },
  {
   "cell_type": "code",
   "execution_count": 3,
   "metadata": {},
   "outputs": [],
   "source": [
    "def extract_features(url):\n",
    "\n",
    "    feature = {}\n",
    "\n",
    "    # URL Length\n",
    "    feature['url_length'] = len(url)\n",
    "\n",
    "    # Count Special Character\n",
    "    feature['num_special_chars'] = sum(1 for c in url if c in['?', '=', '&', '%', '@', '-', '_'])\n",
    "\n",
    "    # Count Digits\n",
    "    feature['num_digit'] = sum(c.isdigit() for c in url)\n",
    "\n",
    "    # Count subdomains (number of dots in URL)\n",
    "    feature['num_subdomains'] = url.count('.')\n",
    "\n",
    "    # Check if https is present\n",
    "    feature['https_present'] = 1 if url.startswith(\"https\") else 0\n",
    "\n",
    "    # Extract domain & path \n",
    "    parsed_url = urlparse(url)\n",
    "    # feature['domain'] = parsed_url.netloc # Extract domain\n",
    "    feature['path_length'] = len(parsed_url.path) # Path length\n",
    "    feature['num_path_segments'] = parsed_url.path.count('/') # Count path segments\n",
    "\n",
    "    # Check if the URL contains an IP address\n",
    "    feature['contains_ip'] = 2 if re.search(r'\\d+\\.\\d+\\.\\d+\\.\\d+', url) else 0\n",
    "\n",
    "    return feature"
   ]
  },
  {
   "cell_type": "code",
   "execution_count": 4,
   "metadata": {},
   "outputs": [
    {
     "data": {
      "text/html": [
       "<div>\n",
       "<style scoped>\n",
       "    .dataframe tbody tr th:only-of-type {\n",
       "        vertical-align: middle;\n",
       "    }\n",
       "\n",
       "    .dataframe tbody tr th {\n",
       "        vertical-align: top;\n",
       "    }\n",
       "\n",
       "    .dataframe thead th {\n",
       "        text-align: right;\n",
       "    }\n",
       "</style>\n",
       "<table border=\"1\" class=\"dataframe\">\n",
       "  <thead>\n",
       "    <tr style=\"text-align: right;\">\n",
       "      <th></th>\n",
       "      <th>type</th>\n",
       "      <th>url_length</th>\n",
       "      <th>num_special_chars</th>\n",
       "      <th>num_digit</th>\n",
       "      <th>num_subdomains</th>\n",
       "      <th>https_present</th>\n",
       "      <th>path_length</th>\n",
       "      <th>num_path_segments</th>\n",
       "      <th>contains_ip</th>\n",
       "    </tr>\n",
       "  </thead>\n",
       "  <tbody>\n",
       "    <tr>\n",
       "      <th>0</th>\n",
       "      <td>phishing</td>\n",
       "      <td>16</td>\n",
       "      <td>1</td>\n",
       "      <td>0</td>\n",
       "      <td>2</td>\n",
       "      <td>0</td>\n",
       "      <td>16</td>\n",
       "      <td>0</td>\n",
       "      <td>0</td>\n",
       "    </tr>\n",
       "    <tr>\n",
       "      <th>1</th>\n",
       "      <td>benign</td>\n",
       "      <td>35</td>\n",
       "      <td>1</td>\n",
       "      <td>1</td>\n",
       "      <td>2</td>\n",
       "      <td>0</td>\n",
       "      <td>35</td>\n",
       "      <td>2</td>\n",
       "      <td>0</td>\n",
       "    </tr>\n",
       "    <tr>\n",
       "      <th>2</th>\n",
       "      <td>benign</td>\n",
       "      <td>31</td>\n",
       "      <td>0</td>\n",
       "      <td>1</td>\n",
       "      <td>2</td>\n",
       "      <td>0</td>\n",
       "      <td>31</td>\n",
       "      <td>3</td>\n",
       "      <td>0</td>\n",
       "    </tr>\n",
       "    <tr>\n",
       "      <th>3</th>\n",
       "      <td>defacement</td>\n",
       "      <td>88</td>\n",
       "      <td>11</td>\n",
       "      <td>7</td>\n",
       "      <td>3</td>\n",
       "      <td>0</td>\n",
       "      <td>10</td>\n",
       "      <td>1</td>\n",
       "      <td>0</td>\n",
       "    </tr>\n",
       "    <tr>\n",
       "      <th>4</th>\n",
       "      <td>defacement</td>\n",
       "      <td>235</td>\n",
       "      <td>8</td>\n",
       "      <td>22</td>\n",
       "      <td>2</td>\n",
       "      <td>0</td>\n",
       "      <td>10</td>\n",
       "      <td>1</td>\n",
       "      <td>0</td>\n",
       "    </tr>\n",
       "  </tbody>\n",
       "</table>\n",
       "</div>"
      ],
      "text/plain": [
       "         type  url_length  num_special_chars  num_digit  num_subdomains  \\\n",
       "0    phishing          16                  1          0               2   \n",
       "1      benign          35                  1          1               2   \n",
       "2      benign          31                  0          1               2   \n",
       "3  defacement          88                 11          7               3   \n",
       "4  defacement         235                  8         22               2   \n",
       "\n",
       "   https_present  path_length  num_path_segments  contains_ip  \n",
       "0              0           16                  0            0  \n",
       "1              0           35                  2            0  \n",
       "2              0           31                  3            0  \n",
       "3              0           10                  1            0  \n",
       "4              0           10                  1            0  "
      ]
     },
     "execution_count": 4,
     "metadata": {},
     "output_type": "execute_result"
    }
   ],
   "source": [
    "# Apply feature extraction to all URLs\n",
    "features_df = df_sample['url'].apply(lambda x: extract_features(x)).apply(pd.Series)\n",
    "\n",
    "# Merge extracted features with the sampled dataset\n",
    "df_sample = pd.concat([df_sample, features_df], axis=1)\n",
    "\n",
    "# Drop the 'url' column from df_sample\n",
    "df_sample = df_sample.drop(columns=['url'])\n",
    "\n",
    "# Save the cleaned sampled dataset\n",
    "df_sample.to_csv(\"sample_malicious_url.csv\", index=False)\n",
    "\n",
    "# Display the first few rows of the cleaned dataset\n",
    "df_sample.head()\n"
   ]
  },
  {
   "cell_type": "code",
   "execution_count": 5,
   "metadata": {},
   "outputs": [],
   "source": [
    "df = pd.read_csv(\"sample_malicious_url.csv\")\n",
    "# df.head()"
   ]
  },
  {
   "cell_type": "code",
   "execution_count": 6,
   "metadata": {},
   "outputs": [],
   "source": [
    "label_encoder = LabelEncoder()\n",
    "y = label_encoder.fit_transform(df_sample['type'])"
   ]
  },
  {
   "cell_type": "code",
   "execution_count": 7,
   "metadata": {},
   "outputs": [
    {
     "name": "stdout",
     "output_type": "stream",
     "text": [
      "8\n"
     ]
    }
   ],
   "source": [
    "# Exclude the target column\n",
    "features = [x for x in df_sample.columns if x != 'type']  # Exclude 'type' column\n",
    "print(len(features))"
   ]
  },
  {
   "cell_type": "code",
   "execution_count": 8,
   "metadata": {},
   "outputs": [
    {
     "name": "stdout",
     "output_type": "stream",
     "text": [
      "train samples: 800\n",
      "validation samples: 200\n",
      "target proportion: 0.4012\n"
     ]
    }
   ],
   "source": [
    "# Split data into train and test sets\n",
    "X_train, X_test, y_train, y_test = train_test_split(df_sample[features], y, test_size=0.2, random_state=42)\n",
    "\n",
    "print(f'train samples: {len(X_train)}')\n",
    "print(f'validation samples: {len(X_test)}')\n",
    "print(f'target proportion: {sum(y_train)/len(y_train):.4f}')"
   ]
  },
  {
   "cell_type": "code",
   "execution_count": 9,
   "metadata": {},
   "outputs": [],
   "source": [
    "# Building decision tree \n",
    "# min_samples_split: The minimum number of samples required to split an internal ndoe\n",
    "# max_depth: The maximum depth of the tree\n",
    "\n",
    "min_samples_split_list = [2,10, 30, 50, 100, 200, 300, 700] \n",
    "max_depth_list = [1,2, 3, 4, 8, 16, 32, 64, None]"
   ]
  },
  {
   "cell_type": "code",
   "execution_count": 10,
   "metadata": {},
   "outputs": [
    {
     "name": "stdout",
     "output_type": "stream",
     "text": [
      "min_samples_split=2, Train Accuracy=0.9988, Validation Accuracy=0.9000\n",
      "min_samples_split=10, Train Accuracy=0.9550, Validation Accuracy=0.9100\n",
      "min_samples_split=30, Train Accuracy=0.9175, Validation Accuracy=0.8900\n",
      "min_samples_split=50, Train Accuracy=0.9025, Validation Accuracy=0.8800\n",
      "min_samples_split=100, Train Accuracy=0.8850, Validation Accuracy=0.8700\n",
      "min_samples_split=200, Train Accuracy=0.8375, Validation Accuracy=0.7900\n",
      "min_samples_split=300, Train Accuracy=0.8375, Validation Accuracy=0.7900\n",
      "min_samples_split=700, Train Accuracy=0.7913, Validation Accuracy=0.7500\n"
     ]
    },
    {
     "data": {
      "text/plain": [
       "<matplotlib.legend.Legend at 0x2044bc75010>"
      ]
     },
     "execution_count": 10,
     "metadata": {},
     "output_type": "execute_result"
    },
    {
     "data": {
      "image/png": "[encoded data removed]",
      "text/plain": [
       "<Figure size 640x480 with 1 Axes>"
      ]
     },
     "metadata": {},
     "output_type": "display_data"
    }
   ],
   "source": [
    "accuracy_list_train = []\n",
    "accuracy_list_val = []\n",
    "\n",
    "for min_samples_split in min_samples_split_list:\n",
    "\n",
    "    model = DecisionTreeClassifier(min_samples_split=min_samples_split,\n",
    "                                   random_state=42).fit(X_train, y_train)\n",
    "    predictions_train = model.predict(X_train)\n",
    "    predictions_test = model.predict(X_test)\n",
    "    accuracy_train = accuracy_score(predictions_train, y_train)\n",
    "    accuracy_val = accuracy_score(predictions_test, y_test)\n",
    "    accuracy_list_train.append(accuracy_train)\n",
    "    accuracy_list_val.append(accuracy_val)\n",
    "\n",
    "    print(f\"min_samples_split={min_samples_split}, Train Accuracy={accuracy_train:.4f}, Validation Accuracy={accuracy_val:.4f}\")\n",
    "\n",
    "plt.title('Train x Validation metrics')\n",
    "plt.xlabel('min_samples_split')\n",
    "plt.ylabel('accuracy')\n",
    "plt.xticks(ticks= range(len(min_samples_split_list)), labels=min_samples_split_list)\n",
    "plt.plot(accuracy_list_train)\n",
    "plt.plot(accuracy_list_val)\n",
    "plt.legend(['Train', 'Validation'])"
   ]
  },
  {
   "cell_type": "code",
   "execution_count": 11,
   "metadata": {},
   "outputs": [
    {
     "name": "stdout",
     "output_type": "stream",
     "text": [
      "max_depth=1, Train Accuracy=0.7913, Validation Accuracy=0.7500\n",
      "max_depth=2, Train Accuracy=0.8712, Validation Accuracy=0.8450\n",
      "max_depth=3, Train Accuracy=0.8762, Validation Accuracy=0.8450\n",
      "max_depth=4, Train Accuracy=0.9087, Validation Accuracy=0.8800\n",
      "max_depth=8, Train Accuracy=0.9613, Validation Accuracy=0.9100\n",
      "max_depth=16, Train Accuracy=0.9988, Validation Accuracy=0.9000\n",
      "max_depth=32, Train Accuracy=0.9988, Validation Accuracy=0.9000\n",
      "max_depth=64, Train Accuracy=0.9988, Validation Accuracy=0.9000\n",
      "max_depth=None, Train Accuracy=0.9988, Validation Accuracy=0.9000\n"
     ]
    },
    {
     "data": {
      "text/plain": [
       "<matplotlib.legend.Legend at 0x20454c651d0>"
      ]
     },
     "execution_count": 11,
     "metadata": {},
     "output_type": "execute_result"
    },
    {
     "data": {
      "image/png": "[encoded data removed]",
      "text/plain": [
       "<Figure size 640x480 with 1 Axes>"
      ]
     },
     "metadata": {},
     "output_type": "display_data"
    }
   ],
   "source": [
    "accuracy_list_train = []\n",
    "accuracy_list_val = []\n",
    "\n",
    "for max_depth in max_depth_list:\n",
    "\n",
    "    model = DecisionTreeClassifier(max_depth=max_depth,\n",
    "                                   random_state=RANDOM_STATE).fit(X_train, y_train)\n",
    "    predictions_train = model.predict(X_train)\n",
    "    predictions_test = model.predict(X_test)\n",
    "    accuracy_train = accuracy_score(predictions_train, y_train)\n",
    "    accuracy_val = accuracy_score(predictions_test, y_test)\n",
    "    accuracy_list_train.append(accuracy_train)\n",
    "    accuracy_list_val.append(accuracy_val)\n",
    "\n",
    "    print(f\"max_depth={max_depth}, Train Accuracy={accuracy_train:.4f}, Validation Accuracy={accuracy_val:.4f}\")\n",
    "\n",
    "plt.title('Train x Validation metrics')\n",
    "plt.xlabel('max_depth')\n",
    "plt.ylabel('accuracy')\n",
    "plt.xticks(ticks = range(len(max_depth_list )),labels=max_depth_list)\n",
    "plt.plot(accuracy_list_train)\n",
    "plt.plot(accuracy_list_val)\n",
    "\n",
    "plt.legend(['Train','Validation'])"
   ]
  },
  {
   "cell_type": "code",
   "execution_count": 12,
   "metadata": {},
   "outputs": [],
   "source": [
    "decision_tree_model = DecisionTreeClassifier(min_samples_split = 10,\n",
    "                                             max_depth = 8,\n",
    "                                             random_state = RANDOM_STATE).fit(X_train,y_train)"
   ]
  },
  {
   "cell_type": "code",
   "execution_count": 13,
   "metadata": {},
   "outputs": [
    {
     "name": "stdout",
     "output_type": "stream",
     "text": [
      "Metrics train:\n",
      "\tAccuracy score: 0.9450\n",
      "Metrics validation:\n",
      "\tAccuracy score: 0.9050\n"
     ]
    }
   ],
   "source": [
    "print(f\"Metrics train:\\n\\tAccuracy score: {accuracy_score(decision_tree_model.predict(X_train),y_train):.4f}\")\n",
    "print(f\"Metrics validation:\\n\\tAccuracy score: {accuracy_score(decision_tree_model.predict(X_test),y_test):.4f}\")"
   ]
  }
 ],
 "metadata": {
  "kernelspec": {
   "display_name": "Python 3",
   "language": "python",
   "name": "python3"
  },
  "language_info": {
   "codemirror_mode": {
    "name": "ipython",
    "version": 3
   },
   "file_extension": ".py",
   "mimetype": "text/x-python",
   "name": "python",
   "nbconvert_exporter": "python",
   "pygments_lexer": "ipython3",
   "version": "3.13.1"
  }
 },
 "nbformat": 4,
 "nbformat_minor": 2
}
